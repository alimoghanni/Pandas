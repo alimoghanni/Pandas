{
 "cells": [
  {
   "cell_type": "markdown",
   "metadata": {},
   "source": [
    "# Pandas Tutorial - Part 3\n",
    "\n",
    "# Filtering - Using Conditionals to Filter Rows and Columns\n",
    "\n",
    "### Implementation: Ali Moghanni\n",
    "\n",
    "*Resources:*\n",
    "\n",
    "This Jupyter notebook can be obtained at [https://github.com/alimoghanni/Pandas](https://github.com/alimoghanni/Pandas).\n",
    "\n",
    "updated: **2020-04-01**"
   ]
  },
  {
   "cell_type": "code",
   "execution_count": 1,
   "metadata": {},
   "outputs": [],
   "source": [
    "# Preamble: useful toolboxes, librairies, functions, etc.\n",
    "\n",
    "import pandas as pd\n",
    "import numpy as np"
   ]
  },
  {
   "cell_type": "code",
   "execution_count": 2,
   "metadata": {},
   "outputs": [],
   "source": [
    "# Python dictionary\n",
    "\n",
    "people = {\n",
    "    \"first\": [\"Agatha\", \"Hercule\",\"Jane\", \"David\", \"Nicholle\", \"Bruce\", \"Jacob\", \"Maggie\", \"Cristiano\"], \n",
    "    \"last\": [\"Christie\", \"Poirot\", \"Marple\", \"Tom\", \"Tom\", \"Lee\", \"Gyllenhaal\", \"Gyllenhaal\", \"Ronaldo\"], \n",
    "    \"email\": [\"AgathaChristie@mail.com\", \"HerculePoirot@mail.com\", \"\", \"DavidTom@gmail.com\", \"NicholleTom@gmail.com\", \"BruceLee@yahoo.com\",\"JacobGyllenhaal@mail.com\", \"MaggieGyllenhaal@mail.com\", \"CristianoRonaldo@mail.com\"],\n",
    "    \"age\": [85, 54, np.nan ,np.nan, 42, 32, 39, 42, 35 ],\n",
    "    \"occupation\": [\"Novelist\",\"Private investigator\", \"Amateur detective\", \"Actor\", \"Actress\", \"Martial artist\", \"Actor\", \"producer\", \"footballer\"],\n",
    "    \"nationality\": [\"English\", \"Belgian\", \"British\", \"American\", \"American\", \"Chinese\", \"American\", \"American\", \"Portuguese\"],\n",
    "    \"born\": [\"15 September 1890\", \"\", \"December 1927\", \"March 23, 1978\", \"March 23, 1978\", \"November 27, 1940\", \"December 19, 1980\", \"November 16, 1977\", \"February 5, 1985\"],\n",
    "    \"male\": [\"No\", \"Yes\", \"No\", \"Yes\", \"No\", \"Yes\", \"Yes\", \"No\", \"Yes\"]\n",
    "}"
   ]
  },
  {
   "cell_type": "code",
   "execution_count": 3,
   "metadata": {},
   "outputs": [
    {
     "data": {
      "text/html": [
       "<div>\n",
       "<style scoped>\n",
       "    .dataframe tbody tr th:only-of-type {\n",
       "        vertical-align: middle;\n",
       "    }\n",
       "\n",
       "    .dataframe tbody tr th {\n",
       "        vertical-align: top;\n",
       "    }\n",
       "\n",
       "    .dataframe thead th {\n",
       "        text-align: right;\n",
       "    }\n",
       "</style>\n",
       "<table border=\"1\" class=\"dataframe\">\n",
       "  <thead>\n",
       "    <tr style=\"text-align: right;\">\n",
       "      <th></th>\n",
       "      <th>first</th>\n",
       "      <th>last</th>\n",
       "      <th>email</th>\n",
       "      <th>age</th>\n",
       "      <th>occupation</th>\n",
       "      <th>nationality</th>\n",
       "      <th>born</th>\n",
       "      <th>male</th>\n",
       "    </tr>\n",
       "  </thead>\n",
       "  <tbody>\n",
       "    <tr>\n",
       "      <th>0</th>\n",
       "      <td>Agatha</td>\n",
       "      <td>Christie</td>\n",
       "      <td>AgathaChristie@mail.com</td>\n",
       "      <td>85.0</td>\n",
       "      <td>Novelist</td>\n",
       "      <td>English</td>\n",
       "      <td>15 September 1890</td>\n",
       "      <td>No</td>\n",
       "    </tr>\n",
       "    <tr>\n",
       "      <th>1</th>\n",
       "      <td>Hercule</td>\n",
       "      <td>Poirot</td>\n",
       "      <td>HerculePoirot@mail.com</td>\n",
       "      <td>54.0</td>\n",
       "      <td>Private investigator</td>\n",
       "      <td>Belgian</td>\n",
       "      <td></td>\n",
       "      <td>Yes</td>\n",
       "    </tr>\n",
       "    <tr>\n",
       "      <th>2</th>\n",
       "      <td>Jane</td>\n",
       "      <td>Marple</td>\n",
       "      <td></td>\n",
       "      <td>NaN</td>\n",
       "      <td>Amateur detective</td>\n",
       "      <td>British</td>\n",
       "      <td>December 1927</td>\n",
       "      <td>No</td>\n",
       "    </tr>\n",
       "    <tr>\n",
       "      <th>3</th>\n",
       "      <td>David</td>\n",
       "      <td>Tom</td>\n",
       "      <td>DavidTom@gmail.com</td>\n",
       "      <td>NaN</td>\n",
       "      <td>Actor</td>\n",
       "      <td>American</td>\n",
       "      <td>March 23, 1978</td>\n",
       "      <td>Yes</td>\n",
       "    </tr>\n",
       "    <tr>\n",
       "      <th>4</th>\n",
       "      <td>Nicholle</td>\n",
       "      <td>Tom</td>\n",
       "      <td>NicholleTom@gmail.com</td>\n",
       "      <td>42.0</td>\n",
       "      <td>Actress</td>\n",
       "      <td>American</td>\n",
       "      <td>March 23, 1978</td>\n",
       "      <td>No</td>\n",
       "    </tr>\n",
       "    <tr>\n",
       "      <th>5</th>\n",
       "      <td>Bruce</td>\n",
       "      <td>Lee</td>\n",
       "      <td>BruceLee@yahoo.com</td>\n",
       "      <td>32.0</td>\n",
       "      <td>Martial artist</td>\n",
       "      <td>Chinese</td>\n",
       "      <td>November 27, 1940</td>\n",
       "      <td>Yes</td>\n",
       "    </tr>\n",
       "    <tr>\n",
       "      <th>6</th>\n",
       "      <td>Jacob</td>\n",
       "      <td>Gyllenhaal</td>\n",
       "      <td>JacobGyllenhaal@mail.com</td>\n",
       "      <td>39.0</td>\n",
       "      <td>Actor</td>\n",
       "      <td>American</td>\n",
       "      <td>December 19, 1980</td>\n",
       "      <td>Yes</td>\n",
       "    </tr>\n",
       "    <tr>\n",
       "      <th>7</th>\n",
       "      <td>Maggie</td>\n",
       "      <td>Gyllenhaal</td>\n",
       "      <td>MaggieGyllenhaal@mail.com</td>\n",
       "      <td>42.0</td>\n",
       "      <td>producer</td>\n",
       "      <td>American</td>\n",
       "      <td>November 16, 1977</td>\n",
       "      <td>No</td>\n",
       "    </tr>\n",
       "    <tr>\n",
       "      <th>8</th>\n",
       "      <td>Cristiano</td>\n",
       "      <td>Ronaldo</td>\n",
       "      <td>CristianoRonaldo@mail.com</td>\n",
       "      <td>35.0</td>\n",
       "      <td>footballer</td>\n",
       "      <td>Portuguese</td>\n",
       "      <td>February 5, 1985</td>\n",
       "      <td>Yes</td>\n",
       "    </tr>\n",
       "  </tbody>\n",
       "</table>\n",
       "</div>"
      ],
      "text/plain": [
       "       first        last                      email   age  \\\n",
       "0     Agatha    Christie    AgathaChristie@mail.com  85.0   \n",
       "1    Hercule      Poirot     HerculePoirot@mail.com  54.0   \n",
       "2       Jane      Marple                              NaN   \n",
       "3      David         Tom         DavidTom@gmail.com   NaN   \n",
       "4   Nicholle         Tom      NicholleTom@gmail.com  42.0   \n",
       "5      Bruce         Lee         BruceLee@yahoo.com  32.0   \n",
       "6      Jacob  Gyllenhaal   JacobGyllenhaal@mail.com  39.0   \n",
       "7     Maggie  Gyllenhaal  MaggieGyllenhaal@mail.com  42.0   \n",
       "8  Cristiano     Ronaldo  CristianoRonaldo@mail.com  35.0   \n",
       "\n",
       "             occupation nationality               born male  \n",
       "0              Novelist     English  15 September 1890   No  \n",
       "1  Private investigator     Belgian                     Yes  \n",
       "2     Amateur detective     British      December 1927   No  \n",
       "3                 Actor    American     March 23, 1978  Yes  \n",
       "4               Actress    American     March 23, 1978   No  \n",
       "5        Martial artist     Chinese  November 27, 1940  Yes  \n",
       "6                 Actor    American  December 19, 1980  Yes  \n",
       "7              producer    American  November 16, 1977   No  \n",
       "8            footballer  Portuguese   February 5, 1985  Yes  "
      ]
     },
     "execution_count": 3,
     "metadata": {},
     "output_type": "execute_result"
    }
   ],
   "source": [
    "# create pandas DataFrame from dictionary\n",
    "\n",
    "df = pd.DataFrame(people)\n",
    "\n",
    "df"
   ]
  },
  {
   "cell_type": "code",
   "execution_count": 4,
   "metadata": {},
   "outputs": [
    {
     "data": {
      "text/plain": [
       "0    False\n",
       "1    False\n",
       "2    False\n",
       "3     True\n",
       "4     True\n",
       "5    False\n",
       "6    False\n",
       "7    False\n",
       "8    False\n",
       "Name: last, dtype: bool"
      ]
     },
     "execution_count": 4,
     "metadata": {},
     "output_type": "execute_result"
    }
   ],
   "source": [
    "filt = (df['last'] == 'Tom')\n",
    "\n",
    "filt"
   ]
  },
  {
   "cell_type": "code",
   "execution_count": 5,
   "metadata": {},
   "outputs": [
    {
     "data": {
      "text/html": [
       "<div>\n",
       "<style scoped>\n",
       "    .dataframe tbody tr th:only-of-type {\n",
       "        vertical-align: middle;\n",
       "    }\n",
       "\n",
       "    .dataframe tbody tr th {\n",
       "        vertical-align: top;\n",
       "    }\n",
       "\n",
       "    .dataframe thead th {\n",
       "        text-align: right;\n",
       "    }\n",
       "</style>\n",
       "<table border=\"1\" class=\"dataframe\">\n",
       "  <thead>\n",
       "    <tr style=\"text-align: right;\">\n",
       "      <th></th>\n",
       "      <th>first</th>\n",
       "      <th>last</th>\n",
       "      <th>email</th>\n",
       "      <th>age</th>\n",
       "      <th>occupation</th>\n",
       "      <th>nationality</th>\n",
       "      <th>born</th>\n",
       "      <th>male</th>\n",
       "    </tr>\n",
       "  </thead>\n",
       "  <tbody>\n",
       "    <tr>\n",
       "      <th>3</th>\n",
       "      <td>David</td>\n",
       "      <td>Tom</td>\n",
       "      <td>DavidTom@gmail.com</td>\n",
       "      <td>NaN</td>\n",
       "      <td>Actor</td>\n",
       "      <td>American</td>\n",
       "      <td>March 23, 1978</td>\n",
       "      <td>Yes</td>\n",
       "    </tr>\n",
       "    <tr>\n",
       "      <th>4</th>\n",
       "      <td>Nicholle</td>\n",
       "      <td>Tom</td>\n",
       "      <td>NicholleTom@gmail.com</td>\n",
       "      <td>42.0</td>\n",
       "      <td>Actress</td>\n",
       "      <td>American</td>\n",
       "      <td>March 23, 1978</td>\n",
       "      <td>No</td>\n",
       "    </tr>\n",
       "  </tbody>\n",
       "</table>\n",
       "</div>"
      ],
      "text/plain": [
       "      first last                  email   age occupation nationality  \\\n",
       "3     David  Tom     DavidTom@gmail.com   NaN      Actor    American   \n",
       "4  Nicholle  Tom  NicholleTom@gmail.com  42.0    Actress    American   \n",
       "\n",
       "             born male  \n",
       "3  March 23, 1978  Yes  \n",
       "4  March 23, 1978   No  "
      ]
     },
     "execution_count": 5,
     "metadata": {},
     "output_type": "execute_result"
    }
   ],
   "source": [
    "df[filt]  # or df[df['last'] == 'Tom']"
   ]
  },
  {
   "cell_type": "code",
   "execution_count": 6,
   "metadata": {},
   "outputs": [
    {
     "data": {
      "text/html": [
       "<div>\n",
       "<style scoped>\n",
       "    .dataframe tbody tr th:only-of-type {\n",
       "        vertical-align: middle;\n",
       "    }\n",
       "\n",
       "    .dataframe tbody tr th {\n",
       "        vertical-align: top;\n",
       "    }\n",
       "\n",
       "    .dataframe thead th {\n",
       "        text-align: right;\n",
       "    }\n",
       "</style>\n",
       "<table border=\"1\" class=\"dataframe\">\n",
       "  <thead>\n",
       "    <tr style=\"text-align: right;\">\n",
       "      <th></th>\n",
       "      <th>first</th>\n",
       "      <th>last</th>\n",
       "      <th>email</th>\n",
       "      <th>age</th>\n",
       "      <th>occupation</th>\n",
       "      <th>nationality</th>\n",
       "      <th>born</th>\n",
       "      <th>male</th>\n",
       "    </tr>\n",
       "  </thead>\n",
       "  <tbody>\n",
       "    <tr>\n",
       "      <th>3</th>\n",
       "      <td>David</td>\n",
       "      <td>Tom</td>\n",
       "      <td>DavidTom@gmail.com</td>\n",
       "      <td>NaN</td>\n",
       "      <td>Actor</td>\n",
       "      <td>American</td>\n",
       "      <td>March 23, 1978</td>\n",
       "      <td>Yes</td>\n",
       "    </tr>\n",
       "    <tr>\n",
       "      <th>4</th>\n",
       "      <td>Nicholle</td>\n",
       "      <td>Tom</td>\n",
       "      <td>NicholleTom@gmail.com</td>\n",
       "      <td>42.0</td>\n",
       "      <td>Actress</td>\n",
       "      <td>American</td>\n",
       "      <td>March 23, 1978</td>\n",
       "      <td>No</td>\n",
       "    </tr>\n",
       "  </tbody>\n",
       "</table>\n",
       "</div>"
      ],
      "text/plain": [
       "      first last                  email   age occupation nationality  \\\n",
       "3     David  Tom     DavidTom@gmail.com   NaN      Actor    American   \n",
       "4  Nicholle  Tom  NicholleTom@gmail.com  42.0    Actress    American   \n",
       "\n",
       "             born male  \n",
       "3  March 23, 1978  Yes  \n",
       "4  March 23, 1978   No  "
      ]
     },
     "execution_count": 6,
     "metadata": {},
     "output_type": "execute_result"
    }
   ],
   "source": [
    "df[df['last'] == 'Tom']"
   ]
  },
  {
   "cell_type": "code",
   "execution_count": 7,
   "metadata": {},
   "outputs": [
    {
     "data": {
      "text/html": [
       "<div>\n",
       "<style scoped>\n",
       "    .dataframe tbody tr th:only-of-type {\n",
       "        vertical-align: middle;\n",
       "    }\n",
       "\n",
       "    .dataframe tbody tr th {\n",
       "        vertical-align: top;\n",
       "    }\n",
       "\n",
       "    .dataframe thead th {\n",
       "        text-align: right;\n",
       "    }\n",
       "</style>\n",
       "<table border=\"1\" class=\"dataframe\">\n",
       "  <thead>\n",
       "    <tr style=\"text-align: right;\">\n",
       "      <th></th>\n",
       "      <th>first</th>\n",
       "      <th>last</th>\n",
       "      <th>email</th>\n",
       "      <th>age</th>\n",
       "      <th>occupation</th>\n",
       "      <th>nationality</th>\n",
       "      <th>born</th>\n",
       "      <th>male</th>\n",
       "    </tr>\n",
       "  </thead>\n",
       "  <tbody>\n",
       "    <tr>\n",
       "      <th>3</th>\n",
       "      <td>David</td>\n",
       "      <td>Tom</td>\n",
       "      <td>DavidTom@gmail.com</td>\n",
       "      <td>NaN</td>\n",
       "      <td>Actor</td>\n",
       "      <td>American</td>\n",
       "      <td>March 23, 1978</td>\n",
       "      <td>Yes</td>\n",
       "    </tr>\n",
       "    <tr>\n",
       "      <th>4</th>\n",
       "      <td>Nicholle</td>\n",
       "      <td>Tom</td>\n",
       "      <td>NicholleTom@gmail.com</td>\n",
       "      <td>42.0</td>\n",
       "      <td>Actress</td>\n",
       "      <td>American</td>\n",
       "      <td>March 23, 1978</td>\n",
       "      <td>No</td>\n",
       "    </tr>\n",
       "  </tbody>\n",
       "</table>\n",
       "</div>"
      ],
      "text/plain": [
       "      first last                  email   age occupation nationality  \\\n",
       "3     David  Tom     DavidTom@gmail.com   NaN      Actor    American   \n",
       "4  Nicholle  Tom  NicholleTom@gmail.com  42.0    Actress    American   \n",
       "\n",
       "             born male  \n",
       "3  March 23, 1978  Yes  \n",
       "4  March 23, 1978   No  "
      ]
     },
     "execution_count": 7,
     "metadata": {},
     "output_type": "execute_result"
    }
   ],
   "source": [
    "df.loc[filt]"
   ]
  },
  {
   "cell_type": "code",
   "execution_count": 8,
   "metadata": {},
   "outputs": [
    {
     "data": {
      "text/plain": [
       "3       DavidTom@gmail.com\n",
       "4    NicholleTom@gmail.com\n",
       "Name: email, dtype: object"
      ]
     },
     "execution_count": 8,
     "metadata": {},
     "output_type": "execute_result"
    }
   ],
   "source": [
    "df.loc[filt, 'email']"
   ]
  },
  {
   "cell_type": "code",
   "execution_count": 9,
   "metadata": {},
   "outputs": [
    {
     "data": {
      "text/plain": [
       "4    NicholleTom@gmail.com\n",
       "Name: email, dtype: object"
      ]
     },
     "execution_count": 9,
     "metadata": {},
     "output_type": "execute_result"
    }
   ],
   "source": [
    "filt = (df['last'] == 'Tom')  &  (df['first'] == 'Nicholle')\n",
    "\n",
    "df.loc[filt, 'email']"
   ]
  },
  {
   "cell_type": "code",
   "execution_count": 10,
   "metadata": {},
   "outputs": [
    {
     "data": {
      "text/plain": [
       "3          DavidTom@gmail.com\n",
       "4       NicholleTom@gmail.com\n",
       "6    JacobGyllenhaal@mail.com\n",
       "Name: email, dtype: object"
      ]
     },
     "execution_count": 10,
     "metadata": {},
     "output_type": "execute_result"
    }
   ],
   "source": [
    "filt = (df['last'] == 'Tom')  |  (df['occupation'] == 'Actor')\n",
    "\n",
    "df.loc[filt, 'email']"
   ]
  },
  {
   "cell_type": "code",
   "execution_count": 11,
   "metadata": {},
   "outputs": [
    {
     "data": {
      "text/html": [
       "<div>\n",
       "<style scoped>\n",
       "    .dataframe tbody tr th:only-of-type {\n",
       "        vertical-align: middle;\n",
       "    }\n",
       "\n",
       "    .dataframe tbody tr th {\n",
       "        vertical-align: top;\n",
       "    }\n",
       "\n",
       "    .dataframe thead th {\n",
       "        text-align: right;\n",
       "    }\n",
       "</style>\n",
       "<table border=\"1\" class=\"dataframe\">\n",
       "  <thead>\n",
       "    <tr style=\"text-align: right;\">\n",
       "      <th></th>\n",
       "      <th>nationality</th>\n",
       "      <th>email</th>\n",
       "    </tr>\n",
       "  </thead>\n",
       "  <tbody>\n",
       "    <tr>\n",
       "      <th>3</th>\n",
       "      <td>American</td>\n",
       "      <td>DavidTom@gmail.com</td>\n",
       "    </tr>\n",
       "    <tr>\n",
       "      <th>4</th>\n",
       "      <td>American</td>\n",
       "      <td>NicholleTom@gmail.com</td>\n",
       "    </tr>\n",
       "    <tr>\n",
       "      <th>6</th>\n",
       "      <td>American</td>\n",
       "      <td>JacobGyllenhaal@mail.com</td>\n",
       "    </tr>\n",
       "  </tbody>\n",
       "</table>\n",
       "</div>"
      ],
      "text/plain": [
       "  nationality                     email\n",
       "3    American        DavidTom@gmail.com\n",
       "4    American     NicholleTom@gmail.com\n",
       "6    American  JacobGyllenhaal@mail.com"
      ]
     },
     "execution_count": 11,
     "metadata": {},
     "output_type": "execute_result"
    }
   ],
   "source": [
    "filt = (df['last'] == 'Tom')  |  (df['occupation'] == 'Actor')\n",
    "\n",
    "df.loc[filt, ['nationality', 'email']]"
   ]
  },
  {
   "cell_type": "code",
   "execution_count": 12,
   "metadata": {},
   "outputs": [
    {
     "data": {
      "text/html": [
       "<div>\n",
       "<style scoped>\n",
       "    .dataframe tbody tr th:only-of-type {\n",
       "        vertical-align: middle;\n",
       "    }\n",
       "\n",
       "    .dataframe tbody tr th {\n",
       "        vertical-align: top;\n",
       "    }\n",
       "\n",
       "    .dataframe thead th {\n",
       "        text-align: right;\n",
       "    }\n",
       "</style>\n",
       "<table border=\"1\" class=\"dataframe\">\n",
       "  <thead>\n",
       "    <tr style=\"text-align: right;\">\n",
       "      <th></th>\n",
       "      <th>nationality</th>\n",
       "      <th>email</th>\n",
       "    </tr>\n",
       "  </thead>\n",
       "  <tbody>\n",
       "    <tr>\n",
       "      <th>0</th>\n",
       "      <td>English</td>\n",
       "      <td>AgathaChristie@mail.com</td>\n",
       "    </tr>\n",
       "    <tr>\n",
       "      <th>1</th>\n",
       "      <td>Belgian</td>\n",
       "      <td>HerculePoirot@mail.com</td>\n",
       "    </tr>\n",
       "    <tr>\n",
       "      <th>2</th>\n",
       "      <td>British</td>\n",
       "      <td></td>\n",
       "    </tr>\n",
       "    <tr>\n",
       "      <th>5</th>\n",
       "      <td>Chinese</td>\n",
       "      <td>BruceLee@yahoo.com</td>\n",
       "    </tr>\n",
       "    <tr>\n",
       "      <th>7</th>\n",
       "      <td>American</td>\n",
       "      <td>MaggieGyllenhaal@mail.com</td>\n",
       "    </tr>\n",
       "    <tr>\n",
       "      <th>8</th>\n",
       "      <td>Portuguese</td>\n",
       "      <td>CristianoRonaldo@mail.com</td>\n",
       "    </tr>\n",
       "  </tbody>\n",
       "</table>\n",
       "</div>"
      ],
      "text/plain": [
       "  nationality                      email\n",
       "0     English    AgathaChristie@mail.com\n",
       "1     Belgian     HerculePoirot@mail.com\n",
       "2     British                           \n",
       "5     Chinese         BruceLee@yahoo.com\n",
       "7    American  MaggieGyllenhaal@mail.com\n",
       "8  Portuguese  CristianoRonaldo@mail.com"
      ]
     },
     "execution_count": 12,
     "metadata": {},
     "output_type": "execute_result"
    }
   ],
   "source": [
    "filt = (df['last'] == 'Tom')  |  (df['occupation'] == 'Actor')\n",
    "\n",
    "df.loc[~filt, ['nationality', 'email']]"
   ]
  },
  {
   "cell_type": "code",
   "execution_count": 13,
   "metadata": {},
   "outputs": [],
   "source": [
    "countries = ['American', 'Belgian']\n",
    "\n",
    "filt = df['nationality'].isin(countries)"
   ]
  },
  {
   "cell_type": "code",
   "execution_count": 14,
   "metadata": {},
   "outputs": [
    {
     "data": {
      "text/html": [
       "<div>\n",
       "<style scoped>\n",
       "    .dataframe tbody tr th:only-of-type {\n",
       "        vertical-align: middle;\n",
       "    }\n",
       "\n",
       "    .dataframe tbody tr th {\n",
       "        vertical-align: top;\n",
       "    }\n",
       "\n",
       "    .dataframe thead th {\n",
       "        text-align: right;\n",
       "    }\n",
       "</style>\n",
       "<table border=\"1\" class=\"dataframe\">\n",
       "  <thead>\n",
       "    <tr style=\"text-align: right;\">\n",
       "      <th></th>\n",
       "      <th>first</th>\n",
       "      <th>last</th>\n",
       "      <th>email</th>\n",
       "      <th>age</th>\n",
       "      <th>occupation</th>\n",
       "      <th>nationality</th>\n",
       "      <th>born</th>\n",
       "      <th>male</th>\n",
       "    </tr>\n",
       "  </thead>\n",
       "  <tbody>\n",
       "    <tr>\n",
       "      <th>1</th>\n",
       "      <td>Hercule</td>\n",
       "      <td>Poirot</td>\n",
       "      <td>HerculePoirot@mail.com</td>\n",
       "      <td>54.0</td>\n",
       "      <td>Private investigator</td>\n",
       "      <td>Belgian</td>\n",
       "      <td></td>\n",
       "      <td>Yes</td>\n",
       "    </tr>\n",
       "    <tr>\n",
       "      <th>3</th>\n",
       "      <td>David</td>\n",
       "      <td>Tom</td>\n",
       "      <td>DavidTom@gmail.com</td>\n",
       "      <td>NaN</td>\n",
       "      <td>Actor</td>\n",
       "      <td>American</td>\n",
       "      <td>March 23, 1978</td>\n",
       "      <td>Yes</td>\n",
       "    </tr>\n",
       "    <tr>\n",
       "      <th>4</th>\n",
       "      <td>Nicholle</td>\n",
       "      <td>Tom</td>\n",
       "      <td>NicholleTom@gmail.com</td>\n",
       "      <td>42.0</td>\n",
       "      <td>Actress</td>\n",
       "      <td>American</td>\n",
       "      <td>March 23, 1978</td>\n",
       "      <td>No</td>\n",
       "    </tr>\n",
       "    <tr>\n",
       "      <th>6</th>\n",
       "      <td>Jacob</td>\n",
       "      <td>Gyllenhaal</td>\n",
       "      <td>JacobGyllenhaal@mail.com</td>\n",
       "      <td>39.0</td>\n",
       "      <td>Actor</td>\n",
       "      <td>American</td>\n",
       "      <td>December 19, 1980</td>\n",
       "      <td>Yes</td>\n",
       "    </tr>\n",
       "    <tr>\n",
       "      <th>7</th>\n",
       "      <td>Maggie</td>\n",
       "      <td>Gyllenhaal</td>\n",
       "      <td>MaggieGyllenhaal@mail.com</td>\n",
       "      <td>42.0</td>\n",
       "      <td>producer</td>\n",
       "      <td>American</td>\n",
       "      <td>November 16, 1977</td>\n",
       "      <td>No</td>\n",
       "    </tr>\n",
       "  </tbody>\n",
       "</table>\n",
       "</div>"
      ],
      "text/plain": [
       "      first        last                      email   age  \\\n",
       "1   Hercule      Poirot     HerculePoirot@mail.com  54.0   \n",
       "3     David         Tom         DavidTom@gmail.com   NaN   \n",
       "4  Nicholle         Tom      NicholleTom@gmail.com  42.0   \n",
       "6     Jacob  Gyllenhaal   JacobGyllenhaal@mail.com  39.0   \n",
       "7    Maggie  Gyllenhaal  MaggieGyllenhaal@mail.com  42.0   \n",
       "\n",
       "             occupation nationality               born male  \n",
       "1  Private investigator     Belgian                     Yes  \n",
       "3                 Actor    American     March 23, 1978  Yes  \n",
       "4               Actress    American     March 23, 1978   No  \n",
       "6                 Actor    American  December 19, 1980  Yes  \n",
       "7              producer    American  November 16, 1977   No  "
      ]
     },
     "execution_count": 14,
     "metadata": {},
     "output_type": "execute_result"
    }
   ],
   "source": [
    "df.loc[filt]"
   ]
  },
  {
   "cell_type": "code",
   "execution_count": 15,
   "metadata": {},
   "outputs": [],
   "source": [
    "filt = df['email'].str.contains('gmail', na=False)"
   ]
  },
  {
   "cell_type": "code",
   "execution_count": 16,
   "metadata": {},
   "outputs": [
    {
     "data": {
      "text/html": [
       "<div>\n",
       "<style scoped>\n",
       "    .dataframe tbody tr th:only-of-type {\n",
       "        vertical-align: middle;\n",
       "    }\n",
       "\n",
       "    .dataframe tbody tr th {\n",
       "        vertical-align: top;\n",
       "    }\n",
       "\n",
       "    .dataframe thead th {\n",
       "        text-align: right;\n",
       "    }\n",
       "</style>\n",
       "<table border=\"1\" class=\"dataframe\">\n",
       "  <thead>\n",
       "    <tr style=\"text-align: right;\">\n",
       "      <th></th>\n",
       "      <th>first</th>\n",
       "      <th>last</th>\n",
       "      <th>email</th>\n",
       "    </tr>\n",
       "  </thead>\n",
       "  <tbody>\n",
       "    <tr>\n",
       "      <th>3</th>\n",
       "      <td>David</td>\n",
       "      <td>Tom</td>\n",
       "      <td>DavidTom@gmail.com</td>\n",
       "    </tr>\n",
       "    <tr>\n",
       "      <th>4</th>\n",
       "      <td>Nicholle</td>\n",
       "      <td>Tom</td>\n",
       "      <td>NicholleTom@gmail.com</td>\n",
       "    </tr>\n",
       "  </tbody>\n",
       "</table>\n",
       "</div>"
      ],
      "text/plain": [
       "      first last                  email\n",
       "3     David  Tom     DavidTom@gmail.com\n",
       "4  Nicholle  Tom  NicholleTom@gmail.com"
      ]
     },
     "execution_count": 16,
     "metadata": {},
     "output_type": "execute_result"
    }
   ],
   "source": [
    "df.loc[filt, 'first':'email']"
   ]
  },
  {
   "cell_type": "code",
   "execution_count": null,
   "metadata": {},
   "outputs": [],
   "source": []
  }
 ],
 "metadata": {
  "kernelspec": {
   "display_name": "Python 3",
   "language": "python",
   "name": "python3"
  },
  "language_info": {
   "codemirror_mode": {
    "name": "ipython",
    "version": 3
   },
   "file_extension": ".py",
   "mimetype": "text/x-python",
   "name": "python",
   "nbconvert_exporter": "python",
   "pygments_lexer": "ipython3",
   "version": "3.7.7"
  }
 },
 "nbformat": 4,
 "nbformat_minor": 2
}
