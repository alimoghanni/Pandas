{
 "cells": [
  {
   "cell_type": "markdown",
   "metadata": {},
   "source": [
    "# Pandas Tutorial - Part 1\n",
    "\n",
    "# DataFrame and Series Basics - Selecting Rows and Columns\n",
    "\n",
    "### Implementation: Ali Moghanni\n",
    "\n",
    "*Resources:*\n",
    "\n",
    "This Jupyter notebook can be obtained at [https://github.com/alimoghanni/Pandas](https://github.com/alimoghanni/Pandas). \n",
    "\n",
    "updated: **2020-03-31**"
   ]
  },
  {
   "cell_type": "code",
   "execution_count": 1,
   "metadata": {},
   "outputs": [],
   "source": [
    "# Preamble: useful toolboxes, librairies, functions, etc.\n",
    "\n",
    "import pandas as pd\n",
    "import numpy as np"
   ]
  },
  {
   "cell_type": "code",
   "execution_count": 2,
   "metadata": {},
   "outputs": [],
   "source": [
    "# Python dictionary 1\n",
    "\n",
    "person = {\n",
    "    \"first\": \"Albert\", \n",
    "    \"last\": \"Einstein\", \n",
    "    \"email\": \"AlbertEinstein@mail.com\"\n",
    "}"
   ]
  },
  {
   "cell_type": "code",
   "execution_count": 3,
   "metadata": {},
   "outputs": [],
   "source": [
    "# Python dictionary 2\n",
    "\n",
    "person = {\n",
    "    \"first\": [\"Albert\"], \n",
    "    \"last\": [\"Einstein\"], \n",
    "    \"email\": [\"AlbertEinstein@mail.com\"]\n",
    "}"
   ]
  },
  {
   "cell_type": "code",
   "execution_count": 4,
   "metadata": {},
   "outputs": [],
   "source": [
    "# Python dictionary 3\n",
    "\n",
    "people = {\n",
    "    \"first\": [\"Agatha\", \"Hercule\",\"Jane\", \"David\", \"Nicholle\", \"Bruce\", \"Jacob\", \"Maggie\", \"Cristiano\"], \n",
    "    \"last\": [\"Christie\", \"Poirot\", \"Marple\", \"Tom\", \"Tom\", \"Lee\", \"Gyllenhaal\", \"Gyllenhaal\", \"Ronaldo\"], \n",
    "    \"email\": [\"AgathaChristie@mail.com\", \"Hercule Poirot@mail.com\", \"NA\", \"DavidTom@gmail.com\", \"NicholleTom@gmail.com\", \"BruceLee@yahoo.com\",\"JacobGyllenhaal@mail.com\", \"MaggieGyllenhaal@mail.com\", \"CristianoRonaldo@mail.com\"],\n",
    "    \"age\": [85, 54, np.nan ,np.nan, 42, 32, 39, 42, 35 ],\n",
    "    \"occupation\": [\"Novelist\",\"Private investigator\", \"Amateur detective\", \"Actor\", \"Actress\", \"Martial artist\", \"Actor\", \"producer\", \"footballer\"],\n",
    "    \"nationality\": [\"English\", \"Belgian\", \"British\", \"American\", \"American\", \"Chinese\", \"American\", \"American\", \"Portuguese\"],\n",
    "    \"born\": [\"15 September 1890\", \"Missing\", \"December 1927\", \"March 23, 1978\", \"March 23, 1978\", \"November 27, 1940\", \"December 19, 1980\", \"November 16, 1977\", \"February 5, 1985\"],\n",
    "    \"male\": [\"No\", \"Yes\", \"No\", \"Yes\", \"No\", \"Yes\", \"Yes\", \"No\", \"Yes\"]\n",
    "}"
   ]
  },
  {
   "cell_type": "code",
   "execution_count": 5,
   "metadata": {},
   "outputs": [
    {
     "data": {
      "text/plain": [
       "['Christie',\n",
       " 'Poirot',\n",
       " 'Marple',\n",
       " 'Tom',\n",
       " 'Tom',\n",
       " 'Lee',\n",
       " 'Gyllenhaal',\n",
       " 'Gyllenhaal',\n",
       " 'Ronaldo']"
      ]
     },
     "execution_count": 5,
     "metadata": {},
     "output_type": "execute_result"
    }
   ],
   "source": [
    "# Find values of a key in dictionary\n",
    "\n",
    "people[\"last\"]"
   ]
  },
  {
   "cell_type": "code",
   "execution_count": 6,
   "metadata": {},
   "outputs": [
    {
     "data": {
      "text/html": [
       "<div>\n",
       "<style scoped>\n",
       "    .dataframe tbody tr th:only-of-type {\n",
       "        vertical-align: middle;\n",
       "    }\n",
       "\n",
       "    .dataframe tbody tr th {\n",
       "        vertical-align: top;\n",
       "    }\n",
       "\n",
       "    .dataframe thead th {\n",
       "        text-align: right;\n",
       "    }\n",
       "</style>\n",
       "<table border=\"1\" class=\"dataframe\">\n",
       "  <thead>\n",
       "    <tr style=\"text-align: right;\">\n",
       "      <th></th>\n",
       "      <th>first</th>\n",
       "      <th>last</th>\n",
       "      <th>email</th>\n",
       "      <th>age</th>\n",
       "      <th>occupation</th>\n",
       "      <th>nationality</th>\n",
       "      <th>born</th>\n",
       "      <th>male</th>\n",
       "    </tr>\n",
       "  </thead>\n",
       "  <tbody>\n",
       "    <tr>\n",
       "      <th>0</th>\n",
       "      <td>Agatha</td>\n",
       "      <td>Christie</td>\n",
       "      <td>AgathaChristie@mail.com</td>\n",
       "      <td>85.0</td>\n",
       "      <td>Novelist</td>\n",
       "      <td>English</td>\n",
       "      <td>15 September 1890</td>\n",
       "      <td>No</td>\n",
       "    </tr>\n",
       "    <tr>\n",
       "      <th>1</th>\n",
       "      <td>Hercule</td>\n",
       "      <td>Poirot</td>\n",
       "      <td>Hercule Poirot@mail.com</td>\n",
       "      <td>54.0</td>\n",
       "      <td>Private investigator</td>\n",
       "      <td>Belgian</td>\n",
       "      <td>Missing</td>\n",
       "      <td>Yes</td>\n",
       "    </tr>\n",
       "    <tr>\n",
       "      <th>2</th>\n",
       "      <td>Jane</td>\n",
       "      <td>Marple</td>\n",
       "      <td>NA</td>\n",
       "      <td>NaN</td>\n",
       "      <td>Amateur detective</td>\n",
       "      <td>British</td>\n",
       "      <td>December 1927</td>\n",
       "      <td>No</td>\n",
       "    </tr>\n",
       "    <tr>\n",
       "      <th>3</th>\n",
       "      <td>David</td>\n",
       "      <td>Tom</td>\n",
       "      <td>DavidTom@gmail.com</td>\n",
       "      <td>NaN</td>\n",
       "      <td>Actor</td>\n",
       "      <td>American</td>\n",
       "      <td>March 23, 1978</td>\n",
       "      <td>Yes</td>\n",
       "    </tr>\n",
       "    <tr>\n",
       "      <th>4</th>\n",
       "      <td>Nicholle</td>\n",
       "      <td>Tom</td>\n",
       "      <td>NicholleTom@gmail.com</td>\n",
       "      <td>42.0</td>\n",
       "      <td>Actress</td>\n",
       "      <td>American</td>\n",
       "      <td>March 23, 1978</td>\n",
       "      <td>No</td>\n",
       "    </tr>\n",
       "    <tr>\n",
       "      <th>5</th>\n",
       "      <td>Bruce</td>\n",
       "      <td>Lee</td>\n",
       "      <td>BruceLee@yahoo.com</td>\n",
       "      <td>32.0</td>\n",
       "      <td>Martial artist</td>\n",
       "      <td>Chinese</td>\n",
       "      <td>November 27, 1940</td>\n",
       "      <td>Yes</td>\n",
       "    </tr>\n",
       "    <tr>\n",
       "      <th>6</th>\n",
       "      <td>Jacob</td>\n",
       "      <td>Gyllenhaal</td>\n",
       "      <td>JacobGyllenhaal@mail.com</td>\n",
       "      <td>39.0</td>\n",
       "      <td>Actor</td>\n",
       "      <td>American</td>\n",
       "      <td>December 19, 1980</td>\n",
       "      <td>Yes</td>\n",
       "    </tr>\n",
       "    <tr>\n",
       "      <th>7</th>\n",
       "      <td>Maggie</td>\n",
       "      <td>Gyllenhaal</td>\n",
       "      <td>MaggieGyllenhaal@mail.com</td>\n",
       "      <td>42.0</td>\n",
       "      <td>producer</td>\n",
       "      <td>American</td>\n",
       "      <td>November 16, 1977</td>\n",
       "      <td>No</td>\n",
       "    </tr>\n",
       "    <tr>\n",
       "      <th>8</th>\n",
       "      <td>Cristiano</td>\n",
       "      <td>Ronaldo</td>\n",
       "      <td>CristianoRonaldo@mail.com</td>\n",
       "      <td>35.0</td>\n",
       "      <td>footballer</td>\n",
       "      <td>Portuguese</td>\n",
       "      <td>February 5, 1985</td>\n",
       "      <td>Yes</td>\n",
       "    </tr>\n",
       "  </tbody>\n",
       "</table>\n",
       "</div>"
      ],
      "text/plain": [
       "       first        last                      email   age  \\\n",
       "0     Agatha    Christie    AgathaChristie@mail.com  85.0   \n",
       "1    Hercule      Poirot    Hercule Poirot@mail.com  54.0   \n",
       "2       Jane      Marple                         NA   NaN   \n",
       "3      David         Tom         DavidTom@gmail.com   NaN   \n",
       "4   Nicholle         Tom      NicholleTom@gmail.com  42.0   \n",
       "5      Bruce         Lee         BruceLee@yahoo.com  32.0   \n",
       "6      Jacob  Gyllenhaal   JacobGyllenhaal@mail.com  39.0   \n",
       "7     Maggie  Gyllenhaal  MaggieGyllenhaal@mail.com  42.0   \n",
       "8  Cristiano     Ronaldo  CristianoRonaldo@mail.com  35.0   \n",
       "\n",
       "             occupation nationality               born male  \n",
       "0              Novelist     English  15 September 1890   No  \n",
       "1  Private investigator     Belgian            Missing  Yes  \n",
       "2     Amateur detective     British      December 1927   No  \n",
       "3                 Actor    American     March 23, 1978  Yes  \n",
       "4               Actress    American     March 23, 1978   No  \n",
       "5        Martial artist     Chinese  November 27, 1940  Yes  \n",
       "6                 Actor    American  December 19, 1980  Yes  \n",
       "7              producer    American  November 16, 1977   No  \n",
       "8            footballer  Portuguese   February 5, 1985  Yes  "
      ]
     },
     "execution_count": 6,
     "metadata": {},
     "output_type": "execute_result"
    }
   ],
   "source": [
    "# Create pandas DataFrame from dictionary\n",
    "\n",
    "df = pd.DataFrame(people)\n",
    "\n",
    "df"
   ]
  },
  {
   "cell_type": "code",
   "execution_count": 7,
   "metadata": {},
   "outputs": [
    {
     "data": {
      "text/html": [
       "<div>\n",
       "<style scoped>\n",
       "    .dataframe tbody tr th:only-of-type {\n",
       "        vertical-align: middle;\n",
       "    }\n",
       "\n",
       "    .dataframe tbody tr th {\n",
       "        vertical-align: top;\n",
       "    }\n",
       "\n",
       "    .dataframe thead th {\n",
       "        text-align: right;\n",
       "    }\n",
       "</style>\n",
       "<table border=\"1\" class=\"dataframe\">\n",
       "  <thead>\n",
       "    <tr style=\"text-align: right;\">\n",
       "      <th></th>\n",
       "      <th>first</th>\n",
       "      <th>last</th>\n",
       "      <th>email</th>\n",
       "      <th>age</th>\n",
       "      <th>occupation</th>\n",
       "      <th>nationality</th>\n",
       "      <th>born</th>\n",
       "      <th>male</th>\n",
       "    </tr>\n",
       "  </thead>\n",
       "  <tbody>\n",
       "    <tr>\n",
       "      <th>0</th>\n",
       "      <td>Agatha</td>\n",
       "      <td>Christie</td>\n",
       "      <td>AgathaChristie@mail.com</td>\n",
       "      <td>85.0</td>\n",
       "      <td>Novelist</td>\n",
       "      <td>English</td>\n",
       "      <td>15 September 1890</td>\n",
       "      <td>No</td>\n",
       "    </tr>\n",
       "    <tr>\n",
       "      <th>1</th>\n",
       "      <td>Hercule</td>\n",
       "      <td>Poirot</td>\n",
       "      <td>Hercule Poirot@mail.com</td>\n",
       "      <td>54.0</td>\n",
       "      <td>Private investigator</td>\n",
       "      <td>Belgian</td>\n",
       "      <td>Missing</td>\n",
       "      <td>Yes</td>\n",
       "    </tr>\n",
       "    <tr>\n",
       "      <th>2</th>\n",
       "      <td>Jane</td>\n",
       "      <td>Marple</td>\n",
       "      <td>NA</td>\n",
       "      <td>NaN</td>\n",
       "      <td>Amateur detective</td>\n",
       "      <td>British</td>\n",
       "      <td>December 1927</td>\n",
       "      <td>No</td>\n",
       "    </tr>\n",
       "    <tr>\n",
       "      <th>3</th>\n",
       "      <td>David</td>\n",
       "      <td>Tom</td>\n",
       "      <td>DavidTom@gmail.com</td>\n",
       "      <td>NaN</td>\n",
       "      <td>Actor</td>\n",
       "      <td>American</td>\n",
       "      <td>March 23, 1978</td>\n",
       "      <td>Yes</td>\n",
       "    </tr>\n",
       "    <tr>\n",
       "      <th>4</th>\n",
       "      <td>Nicholle</td>\n",
       "      <td>Tom</td>\n",
       "      <td>NicholleTom@gmail.com</td>\n",
       "      <td>42.0</td>\n",
       "      <td>Actress</td>\n",
       "      <td>American</td>\n",
       "      <td>March 23, 1978</td>\n",
       "      <td>No</td>\n",
       "    </tr>\n",
       "  </tbody>\n",
       "</table>\n",
       "</div>"
      ],
      "text/plain": [
       "      first      last                    email   age            occupation  \\\n",
       "0    Agatha  Christie  AgathaChristie@mail.com  85.0              Novelist   \n",
       "1   Hercule    Poirot  Hercule Poirot@mail.com  54.0  Private investigator   \n",
       "2      Jane    Marple                       NA   NaN     Amateur detective   \n",
       "3     David       Tom       DavidTom@gmail.com   NaN                 Actor   \n",
       "4  Nicholle       Tom    NicholleTom@gmail.com  42.0               Actress   \n",
       "\n",
       "  nationality               born male  \n",
       "0     English  15 September 1890   No  \n",
       "1     Belgian            Missing  Yes  \n",
       "2     British      December 1927   No  \n",
       "3    American     March 23, 1978  Yes  \n",
       "4    American     March 23, 1978   No  "
      ]
     },
     "execution_count": 7,
     "metadata": {},
     "output_type": "execute_result"
    }
   ],
   "source": [
    "# Show first 5 rows\n",
    "\n",
    "df.head() # or df.head(5)"
   ]
  },
  {
   "cell_type": "code",
   "execution_count": 8,
   "metadata": {},
   "outputs": [
    {
     "data": {
      "text/html": [
       "<div>\n",
       "<style scoped>\n",
       "    .dataframe tbody tr th:only-of-type {\n",
       "        vertical-align: middle;\n",
       "    }\n",
       "\n",
       "    .dataframe tbody tr th {\n",
       "        vertical-align: top;\n",
       "    }\n",
       "\n",
       "    .dataframe thead th {\n",
       "        text-align: right;\n",
       "    }\n",
       "</style>\n",
       "<table border=\"1\" class=\"dataframe\">\n",
       "  <thead>\n",
       "    <tr style=\"text-align: right;\">\n",
       "      <th></th>\n",
       "      <th>first</th>\n",
       "      <th>last</th>\n",
       "      <th>email</th>\n",
       "      <th>age</th>\n",
       "      <th>occupation</th>\n",
       "      <th>nationality</th>\n",
       "      <th>born</th>\n",
       "      <th>male</th>\n",
       "    </tr>\n",
       "  </thead>\n",
       "  <tbody>\n",
       "    <tr>\n",
       "      <th>4</th>\n",
       "      <td>Nicholle</td>\n",
       "      <td>Tom</td>\n",
       "      <td>NicholleTom@gmail.com</td>\n",
       "      <td>42.0</td>\n",
       "      <td>Actress</td>\n",
       "      <td>American</td>\n",
       "      <td>March 23, 1978</td>\n",
       "      <td>No</td>\n",
       "    </tr>\n",
       "    <tr>\n",
       "      <th>5</th>\n",
       "      <td>Bruce</td>\n",
       "      <td>Lee</td>\n",
       "      <td>BruceLee@yahoo.com</td>\n",
       "      <td>32.0</td>\n",
       "      <td>Martial artist</td>\n",
       "      <td>Chinese</td>\n",
       "      <td>November 27, 1940</td>\n",
       "      <td>Yes</td>\n",
       "    </tr>\n",
       "    <tr>\n",
       "      <th>6</th>\n",
       "      <td>Jacob</td>\n",
       "      <td>Gyllenhaal</td>\n",
       "      <td>JacobGyllenhaal@mail.com</td>\n",
       "      <td>39.0</td>\n",
       "      <td>Actor</td>\n",
       "      <td>American</td>\n",
       "      <td>December 19, 1980</td>\n",
       "      <td>Yes</td>\n",
       "    </tr>\n",
       "    <tr>\n",
       "      <th>7</th>\n",
       "      <td>Maggie</td>\n",
       "      <td>Gyllenhaal</td>\n",
       "      <td>MaggieGyllenhaal@mail.com</td>\n",
       "      <td>42.0</td>\n",
       "      <td>producer</td>\n",
       "      <td>American</td>\n",
       "      <td>November 16, 1977</td>\n",
       "      <td>No</td>\n",
       "    </tr>\n",
       "    <tr>\n",
       "      <th>8</th>\n",
       "      <td>Cristiano</td>\n",
       "      <td>Ronaldo</td>\n",
       "      <td>CristianoRonaldo@mail.com</td>\n",
       "      <td>35.0</td>\n",
       "      <td>footballer</td>\n",
       "      <td>Portuguese</td>\n",
       "      <td>February 5, 1985</td>\n",
       "      <td>Yes</td>\n",
       "    </tr>\n",
       "  </tbody>\n",
       "</table>\n",
       "</div>"
      ],
      "text/plain": [
       "       first        last                      email   age      occupation  \\\n",
       "4   Nicholle         Tom      NicholleTom@gmail.com  42.0         Actress   \n",
       "5      Bruce         Lee         BruceLee@yahoo.com  32.0  Martial artist   \n",
       "6      Jacob  Gyllenhaal   JacobGyllenhaal@mail.com  39.0           Actor   \n",
       "7     Maggie  Gyllenhaal  MaggieGyllenhaal@mail.com  42.0        producer   \n",
       "8  Cristiano     Ronaldo  CristianoRonaldo@mail.com  35.0      footballer   \n",
       "\n",
       "  nationality               born male  \n",
       "4    American     March 23, 1978   No  \n",
       "5     Chinese  November 27, 1940  Yes  \n",
       "6    American  December 19, 1980  Yes  \n",
       "7    American  November 16, 1977   No  \n",
       "8  Portuguese   February 5, 1985  Yes  "
      ]
     },
     "execution_count": 8,
     "metadata": {},
     "output_type": "execute_result"
    }
   ],
   "source": [
    "# Show last 5 rows\n",
    "\n",
    "df.tail()"
   ]
  },
  {
   "cell_type": "code",
   "execution_count": 9,
   "metadata": {},
   "outputs": [
    {
     "data": {
      "text/plain": [
       "(9, 8)"
      ]
     },
     "execution_count": 9,
     "metadata": {},
     "output_type": "execute_result"
    }
   ],
   "source": [
    "# Get the number of rows and columns of the DataFrame\n",
    "\n",
    "df.shape"
   ]
  },
  {
   "cell_type": "code",
   "execution_count": 10,
   "metadata": {},
   "outputs": [
    {
     "name": "stdout",
     "output_type": "stream",
     "text": [
      "<class 'pandas.core.frame.DataFrame'>\n",
      "RangeIndex: 9 entries, 0 to 8\n",
      "Data columns (total 8 columns):\n",
      " #   Column       Non-Null Count  Dtype  \n",
      "---  ------       --------------  -----  \n",
      " 0   first        9 non-null      object \n",
      " 1   last         9 non-null      object \n",
      " 2   email        9 non-null      object \n",
      " 3   age          7 non-null      float64\n",
      " 4   occupation   9 non-null      object \n",
      " 5   nationality  9 non-null      object \n",
      " 6   born         9 non-null      object \n",
      " 7   male         9 non-null      object \n",
      "dtypes: float64(1), object(7)\n",
      "memory usage: 704.0+ bytes\n"
     ]
    }
   ],
   "source": [
    "# Print a concise summary of a DataFrame\n",
    "df.info()"
   ]
  },
  {
   "cell_type": "code",
   "execution_count": 11,
   "metadata": {},
   "outputs": [
    {
     "data": {
      "text/plain": [
       "Index(['first', 'last', 'email', 'age', 'occupation', 'nationality', 'born',\n",
       "       'male'],\n",
       "      dtype='object')"
      ]
     },
     "execution_count": 11,
     "metadata": {},
     "output_type": "execute_result"
    }
   ],
   "source": [
    "# Get the column labels of the DataFrame\n",
    "\n",
    "df.columns"
   ]
  },
  {
   "cell_type": "code",
   "execution_count": 12,
   "metadata": {},
   "outputs": [
    {
     "data": {
      "text/plain": [
       "0      AgathaChristie@mail.com\n",
       "1      Hercule Poirot@mail.com\n",
       "2                           NA\n",
       "3           DavidTom@gmail.com\n",
       "4        NicholleTom@gmail.com\n",
       "5           BruceLee@yahoo.com\n",
       "6     JacobGyllenhaal@mail.com\n",
       "7    MaggieGyllenhaal@mail.com\n",
       "8    CristianoRonaldo@mail.com\n",
       "Name: email, dtype: object"
      ]
     },
     "execution_count": 12,
     "metadata": {},
     "output_type": "execute_result"
    }
   ],
   "source": [
    "# Access to values of single column\n",
    "# Using square brackets\n",
    "\n",
    "df['email']   "
   ]
  },
  {
   "cell_type": "code",
   "execution_count": 13,
   "metadata": {},
   "outputs": [
    {
     "data": {
      "text/plain": [
       "pandas.core.series.Series"
      ]
     },
     "execution_count": 13,
     "metadata": {},
     "output_type": "execute_result"
    }
   ],
   "source": [
    "# Show type of specific column\n",
    "\n",
    "type(df['email'])"
   ]
  },
  {
   "cell_type": "code",
   "execution_count": 14,
   "metadata": {},
   "outputs": [
    {
     "data": {
      "text/plain": [
       "0      AgathaChristie@mail.com\n",
       "1      Hercule Poirot@mail.com\n",
       "2                           NA\n",
       "3           DavidTom@gmail.com\n",
       "4        NicholleTom@gmail.com\n",
       "5           BruceLee@yahoo.com\n",
       "6     JacobGyllenhaal@mail.com\n",
       "7    MaggieGyllenhaal@mail.com\n",
       "8    CristianoRonaldo@mail.com\n",
       "Name: email, dtype: object"
      ]
     },
     "execution_count": 14,
     "metadata": {},
     "output_type": "execute_result"
    }
   ],
   "source": [
    "# Access to values of single column\n",
    "# Using dot notation\n",
    "\n",
    "df.email"
   ]
  },
  {
   "cell_type": "code",
   "execution_count": 15,
   "metadata": {},
   "outputs": [
    {
     "data": {
      "text/html": [
       "<div>\n",
       "<style scoped>\n",
       "    .dataframe tbody tr th:only-of-type {\n",
       "        vertical-align: middle;\n",
       "    }\n",
       "\n",
       "    .dataframe tbody tr th {\n",
       "        vertical-align: top;\n",
       "    }\n",
       "\n",
       "    .dataframe thead th {\n",
       "        text-align: right;\n",
       "    }\n",
       "</style>\n",
       "<table border=\"1\" class=\"dataframe\">\n",
       "  <thead>\n",
       "    <tr style=\"text-align: right;\">\n",
       "      <th></th>\n",
       "      <th>first</th>\n",
       "      <th>email</th>\n",
       "    </tr>\n",
       "  </thead>\n",
       "  <tbody>\n",
       "    <tr>\n",
       "      <th>0</th>\n",
       "      <td>Agatha</td>\n",
       "      <td>AgathaChristie@mail.com</td>\n",
       "    </tr>\n",
       "    <tr>\n",
       "      <th>1</th>\n",
       "      <td>Hercule</td>\n",
       "      <td>Hercule Poirot@mail.com</td>\n",
       "    </tr>\n",
       "    <tr>\n",
       "      <th>2</th>\n",
       "      <td>Jane</td>\n",
       "      <td>NA</td>\n",
       "    </tr>\n",
       "    <tr>\n",
       "      <th>3</th>\n",
       "      <td>David</td>\n",
       "      <td>DavidTom@gmail.com</td>\n",
       "    </tr>\n",
       "    <tr>\n",
       "      <th>4</th>\n",
       "      <td>Nicholle</td>\n",
       "      <td>NicholleTom@gmail.com</td>\n",
       "    </tr>\n",
       "    <tr>\n",
       "      <th>5</th>\n",
       "      <td>Bruce</td>\n",
       "      <td>BruceLee@yahoo.com</td>\n",
       "    </tr>\n",
       "    <tr>\n",
       "      <th>6</th>\n",
       "      <td>Jacob</td>\n",
       "      <td>JacobGyllenhaal@mail.com</td>\n",
       "    </tr>\n",
       "    <tr>\n",
       "      <th>7</th>\n",
       "      <td>Maggie</td>\n",
       "      <td>MaggieGyllenhaal@mail.com</td>\n",
       "    </tr>\n",
       "    <tr>\n",
       "      <th>8</th>\n",
       "      <td>Cristiano</td>\n",
       "      <td>CristianoRonaldo@mail.com</td>\n",
       "    </tr>\n",
       "  </tbody>\n",
       "</table>\n",
       "</div>"
      ],
      "text/plain": [
       "       first                      email\n",
       "0     Agatha    AgathaChristie@mail.com\n",
       "1    Hercule    Hercule Poirot@mail.com\n",
       "2       Jane                         NA\n",
       "3      David         DavidTom@gmail.com\n",
       "4   Nicholle      NicholleTom@gmail.com\n",
       "5      Bruce         BruceLee@yahoo.com\n",
       "6      Jacob   JacobGyllenhaal@mail.com\n",
       "7     Maggie  MaggieGyllenhaal@mail.com\n",
       "8  Cristiano  CristianoRonaldo@mail.com"
      ]
     },
     "execution_count": 15,
     "metadata": {},
     "output_type": "execute_result"
    }
   ],
   "source": [
    "# Access to values of multiple columns\n",
    "\n",
    "df[[\"first\", \"email\"]]"
   ]
  },
  {
   "cell_type": "code",
   "execution_count": 16,
   "metadata": {},
   "outputs": [
    {
     "data": {
      "text/plain": [
       "first                           Agatha\n",
       "last                          Christie\n",
       "email          AgathaChristie@mail.com\n",
       "age                               85.0\n",
       "occupation                    Novelist\n",
       "nationality                    English\n",
       "born                 15 September 1890\n",
       "male                                No\n",
       "Name: 0, dtype: object"
      ]
     },
     "execution_count": 16,
     "metadata": {},
     "output_type": "execute_result"
    }
   ],
   "source": [
    "# Get the rows of the DataFrame\n",
    "\n",
    "# integer-location based indexing / selection by position\n",
    "\n",
    "df.iloc[0]  # gives first row"
   ]
  },
  {
   "cell_type": "code",
   "execution_count": 17,
   "metadata": {},
   "outputs": [
    {
     "data": {
      "text/html": [
       "<div>\n",
       "<style scoped>\n",
       "    .dataframe tbody tr th:only-of-type {\n",
       "        vertical-align: middle;\n",
       "    }\n",
       "\n",
       "    .dataframe tbody tr th {\n",
       "        vertical-align: top;\n",
       "    }\n",
       "\n",
       "    .dataframe thead th {\n",
       "        text-align: right;\n",
       "    }\n",
       "</style>\n",
       "<table border=\"1\" class=\"dataframe\">\n",
       "  <thead>\n",
       "    <tr style=\"text-align: right;\">\n",
       "      <th></th>\n",
       "      <th>first</th>\n",
       "      <th>last</th>\n",
       "      <th>email</th>\n",
       "      <th>age</th>\n",
       "      <th>occupation</th>\n",
       "      <th>nationality</th>\n",
       "      <th>born</th>\n",
       "      <th>male</th>\n",
       "    </tr>\n",
       "  </thead>\n",
       "  <tbody>\n",
       "    <tr>\n",
       "      <th>0</th>\n",
       "      <td>Agatha</td>\n",
       "      <td>Christie</td>\n",
       "      <td>AgathaChristie@mail.com</td>\n",
       "      <td>85.0</td>\n",
       "      <td>Novelist</td>\n",
       "      <td>English</td>\n",
       "      <td>15 September 1890</td>\n",
       "      <td>No</td>\n",
       "    </tr>\n",
       "    <tr>\n",
       "      <th>1</th>\n",
       "      <td>Hercule</td>\n",
       "      <td>Poirot</td>\n",
       "      <td>Hercule Poirot@mail.com</td>\n",
       "      <td>54.0</td>\n",
       "      <td>Private investigator</td>\n",
       "      <td>Belgian</td>\n",
       "      <td>Missing</td>\n",
       "      <td>Yes</td>\n",
       "    </tr>\n",
       "  </tbody>\n",
       "</table>\n",
       "</div>"
      ],
      "text/plain": [
       "     first      last                    email   age            occupation  \\\n",
       "0   Agatha  Christie  AgathaChristie@mail.com  85.0              Novelist   \n",
       "1  Hercule    Poirot  Hercule Poirot@mail.com  54.0  Private investigator   \n",
       "\n",
       "  nationality               born male  \n",
       "0     English  15 September 1890   No  \n",
       "1     Belgian            Missing  Yes  "
      ]
     },
     "execution_count": 17,
     "metadata": {},
     "output_type": "execute_result"
    }
   ],
   "source": [
    "# Get multiple rows\n",
    "\n",
    "df.iloc[[0, 1]]  "
   ]
  },
  {
   "cell_type": "code",
   "execution_count": 18,
   "metadata": {},
   "outputs": [
    {
     "data": {
      "text/plain": [
       "0    AgathaChristie@mail.com\n",
       "1    Hercule Poirot@mail.com\n",
       "Name: email, dtype: object"
      ]
     },
     "execution_count": 18,
     "metadata": {},
     "output_type": "execute_result"
    }
   ],
   "source": [
    "# Get multiple rows and colunms\n",
    "\n",
    "df.iloc[[0, 1], 2]  "
   ]
  },
  {
   "cell_type": "code",
   "execution_count": 19,
   "metadata": {},
   "outputs": [
    {
     "data": {
      "text/html": [
       "<div>\n",
       "<style scoped>\n",
       "    .dataframe tbody tr th:only-of-type {\n",
       "        vertical-align: middle;\n",
       "    }\n",
       "\n",
       "    .dataframe tbody tr th {\n",
       "        vertical-align: top;\n",
       "    }\n",
       "\n",
       "    .dataframe thead th {\n",
       "        text-align: right;\n",
       "    }\n",
       "</style>\n",
       "<table border=\"1\" class=\"dataframe\">\n",
       "  <thead>\n",
       "    <tr style=\"text-align: right;\">\n",
       "      <th></th>\n",
       "      <th>first</th>\n",
       "      <th>last</th>\n",
       "      <th>email</th>\n",
       "      <th>age</th>\n",
       "      <th>occupation</th>\n",
       "      <th>nationality</th>\n",
       "      <th>born</th>\n",
       "      <th>male</th>\n",
       "    </tr>\n",
       "  </thead>\n",
       "  <tbody>\n",
       "    <tr>\n",
       "      <th>0</th>\n",
       "      <td>Agatha</td>\n",
       "      <td>Christie</td>\n",
       "      <td>AgathaChristie@mail.com</td>\n",
       "      <td>85.0</td>\n",
       "      <td>Novelist</td>\n",
       "      <td>English</td>\n",
       "      <td>15 September 1890</td>\n",
       "      <td>No</td>\n",
       "    </tr>\n",
       "    <tr>\n",
       "      <th>1</th>\n",
       "      <td>Hercule</td>\n",
       "      <td>Poirot</td>\n",
       "      <td>Hercule Poirot@mail.com</td>\n",
       "      <td>54.0</td>\n",
       "      <td>Private investigator</td>\n",
       "      <td>Belgian</td>\n",
       "      <td>Missing</td>\n",
       "      <td>Yes</td>\n",
       "    </tr>\n",
       "    <tr>\n",
       "      <th>2</th>\n",
       "      <td>Jane</td>\n",
       "      <td>Marple</td>\n",
       "      <td>NA</td>\n",
       "      <td>NaN</td>\n",
       "      <td>Amateur detective</td>\n",
       "      <td>British</td>\n",
       "      <td>December 1927</td>\n",
       "      <td>No</td>\n",
       "    </tr>\n",
       "    <tr>\n",
       "      <th>3</th>\n",
       "      <td>David</td>\n",
       "      <td>Tom</td>\n",
       "      <td>DavidTom@gmail.com</td>\n",
       "      <td>NaN</td>\n",
       "      <td>Actor</td>\n",
       "      <td>American</td>\n",
       "      <td>March 23, 1978</td>\n",
       "      <td>Yes</td>\n",
       "    </tr>\n",
       "    <tr>\n",
       "      <th>4</th>\n",
       "      <td>Nicholle</td>\n",
       "      <td>Tom</td>\n",
       "      <td>NicholleTom@gmail.com</td>\n",
       "      <td>42.0</td>\n",
       "      <td>Actress</td>\n",
       "      <td>American</td>\n",
       "      <td>March 23, 1978</td>\n",
       "      <td>No</td>\n",
       "    </tr>\n",
       "  </tbody>\n",
       "</table>\n",
       "</div>"
      ],
      "text/plain": [
       "      first      last                    email   age            occupation  \\\n",
       "0    Agatha  Christie  AgathaChristie@mail.com  85.0              Novelist   \n",
       "1   Hercule    Poirot  Hercule Poirot@mail.com  54.0  Private investigator   \n",
       "2      Jane    Marple                       NA   NaN     Amateur detective   \n",
       "3     David       Tom       DavidTom@gmail.com   NaN                 Actor   \n",
       "4  Nicholle       Tom    NicholleTom@gmail.com  42.0               Actress   \n",
       "\n",
       "  nationality               born male  \n",
       "0     English  15 September 1890   No  \n",
       "1     Belgian            Missing  Yes  \n",
       "2     British      December 1927   No  \n",
       "3    American     March 23, 1978  Yes  \n",
       "4    American     March 23, 1978   No  "
      ]
     },
     "execution_count": 19,
     "metadata": {},
     "output_type": "execute_result"
    }
   ],
   "source": [
    "df.head()"
   ]
  },
  {
   "cell_type": "code",
   "execution_count": 20,
   "metadata": {},
   "outputs": [
    {
     "data": {
      "text/plain": [
       "first                           Agatha\n",
       "last                          Christie\n",
       "email          AgathaChristie@mail.com\n",
       "age                               85.0\n",
       "occupation                    Novelist\n",
       "nationality                    English\n",
       "born                 15 September 1890\n",
       "male                                No\n",
       "Name: 0, dtype: object"
      ]
     },
     "execution_count": 20,
     "metadata": {},
     "output_type": "execute_result"
    }
   ],
   "source": [
    "# Get the rows of the DataFrame\n",
    "\n",
    "# Label-based / Index-based indexing\n",
    "\n",
    "df.loc[0]"
   ]
  },
  {
   "cell_type": "code",
   "execution_count": 21,
   "metadata": {},
   "outputs": [
    {
     "data": {
      "text/html": [
       "<div>\n",
       "<style scoped>\n",
       "    .dataframe tbody tr th:only-of-type {\n",
       "        vertical-align: middle;\n",
       "    }\n",
       "\n",
       "    .dataframe tbody tr th {\n",
       "        vertical-align: top;\n",
       "    }\n",
       "\n",
       "    .dataframe thead th {\n",
       "        text-align: right;\n",
       "    }\n",
       "</style>\n",
       "<table border=\"1\" class=\"dataframe\">\n",
       "  <thead>\n",
       "    <tr style=\"text-align: right;\">\n",
       "      <th></th>\n",
       "      <th>first</th>\n",
       "      <th>last</th>\n",
       "      <th>email</th>\n",
       "      <th>age</th>\n",
       "      <th>occupation</th>\n",
       "      <th>nationality</th>\n",
       "      <th>born</th>\n",
       "      <th>male</th>\n",
       "    </tr>\n",
       "  </thead>\n",
       "  <tbody>\n",
       "    <tr>\n",
       "      <th>3</th>\n",
       "      <td>David</td>\n",
       "      <td>Tom</td>\n",
       "      <td>DavidTom@gmail.com</td>\n",
       "      <td>NaN</td>\n",
       "      <td>Actor</td>\n",
       "      <td>American</td>\n",
       "      <td>March 23, 1978</td>\n",
       "      <td>Yes</td>\n",
       "    </tr>\n",
       "    <tr>\n",
       "      <th>7</th>\n",
       "      <td>Maggie</td>\n",
       "      <td>Gyllenhaal</td>\n",
       "      <td>MaggieGyllenhaal@mail.com</td>\n",
       "      <td>42.0</td>\n",
       "      <td>producer</td>\n",
       "      <td>American</td>\n",
       "      <td>November 16, 1977</td>\n",
       "      <td>No</td>\n",
       "    </tr>\n",
       "  </tbody>\n",
       "</table>\n",
       "</div>"
      ],
      "text/plain": [
       "    first        last                      email   age occupation nationality  \\\n",
       "3   David         Tom         DavidTom@gmail.com   NaN      Actor    American   \n",
       "7  Maggie  Gyllenhaal  MaggieGyllenhaal@mail.com  42.0   producer    American   \n",
       "\n",
       "                born male  \n",
       "3     March 23, 1978  Yes  \n",
       "7  November 16, 1977   No  "
      ]
     },
     "execution_count": 21,
     "metadata": {},
     "output_type": "execute_result"
    }
   ],
   "source": [
    "# Get multiple rows\n",
    "\n",
    "df.loc[[3, 7]]"
   ]
  },
  {
   "cell_type": "code",
   "execution_count": 22,
   "metadata": {},
   "outputs": [
    {
     "data": {
      "text/plain": [
       "0    AgathaChristie@mail.com\n",
       "1    Hercule Poirot@mail.com\n",
       "Name: email, dtype: object"
      ]
     },
     "execution_count": 22,
     "metadata": {},
     "output_type": "execute_result"
    }
   ],
   "source": [
    "# Get multiple rows and colunms\n",
    "\n",
    "df.loc[[0, 1], 'email']"
   ]
  },
  {
   "cell_type": "code",
   "execution_count": 23,
   "metadata": {},
   "outputs": [
    {
     "data": {
      "text/html": [
       "<div>\n",
       "<style scoped>\n",
       "    .dataframe tbody tr th:only-of-type {\n",
       "        vertical-align: middle;\n",
       "    }\n",
       "\n",
       "    .dataframe tbody tr th {\n",
       "        vertical-align: top;\n",
       "    }\n",
       "\n",
       "    .dataframe thead th {\n",
       "        text-align: right;\n",
       "    }\n",
       "</style>\n",
       "<table border=\"1\" class=\"dataframe\">\n",
       "  <thead>\n",
       "    <tr style=\"text-align: right;\">\n",
       "      <th></th>\n",
       "      <th>email</th>\n",
       "      <th>last</th>\n",
       "    </tr>\n",
       "  </thead>\n",
       "  <tbody>\n",
       "    <tr>\n",
       "      <th>0</th>\n",
       "      <td>AgathaChristie@mail.com</td>\n",
       "      <td>Christie</td>\n",
       "    </tr>\n",
       "    <tr>\n",
       "      <th>1</th>\n",
       "      <td>Hercule Poirot@mail.com</td>\n",
       "      <td>Poirot</td>\n",
       "    </tr>\n",
       "  </tbody>\n",
       "</table>\n",
       "</div>"
      ],
      "text/plain": [
       "                     email      last\n",
       "0  AgathaChristie@mail.com  Christie\n",
       "1  Hercule Poirot@mail.com    Poirot"
      ]
     },
     "execution_count": 23,
     "metadata": {},
     "output_type": "execute_result"
    }
   ],
   "source": [
    "df.loc[[0, 1], ['email', 'last']]"
   ]
  },
  {
   "cell_type": "code",
   "execution_count": 24,
   "metadata": {},
   "outputs": [
    {
     "data": {
      "text/html": [
       "<div>\n",
       "<style scoped>\n",
       "    .dataframe tbody tr th:only-of-type {\n",
       "        vertical-align: middle;\n",
       "    }\n",
       "\n",
       "    .dataframe tbody tr th {\n",
       "        vertical-align: top;\n",
       "    }\n",
       "\n",
       "    .dataframe thead th {\n",
       "        text-align: right;\n",
       "    }\n",
       "</style>\n",
       "<table border=\"1\" class=\"dataframe\">\n",
       "  <thead>\n",
       "    <tr style=\"text-align: right;\">\n",
       "      <th></th>\n",
       "      <th>email</th>\n",
       "      <th>last</th>\n",
       "    </tr>\n",
       "  </thead>\n",
       "  <tbody>\n",
       "    <tr>\n",
       "      <th>0</th>\n",
       "      <td>AgathaChristie@mail.com</td>\n",
       "      <td>Christie</td>\n",
       "    </tr>\n",
       "    <tr>\n",
       "      <th>1</th>\n",
       "      <td>Hercule Poirot@mail.com</td>\n",
       "      <td>Poirot</td>\n",
       "    </tr>\n",
       "    <tr>\n",
       "      <th>2</th>\n",
       "      <td>NA</td>\n",
       "      <td>Marple</td>\n",
       "    </tr>\n",
       "  </tbody>\n",
       "</table>\n",
       "</div>"
      ],
      "text/plain": [
       "                     email      last\n",
       "0  AgathaChristie@mail.com  Christie\n",
       "1  Hercule Poirot@mail.com    Poirot\n",
       "2                       NA    Marple"
      ]
     },
     "execution_count": 24,
     "metadata": {},
     "output_type": "execute_result"
    }
   ],
   "source": [
    "df.loc[0:2, ['email', 'last']]"
   ]
  },
  {
   "cell_type": "code",
   "execution_count": 25,
   "metadata": {},
   "outputs": [
    {
     "data": {
      "text/html": [
       "<div>\n",
       "<style scoped>\n",
       "    .dataframe tbody tr th:only-of-type {\n",
       "        vertical-align: middle;\n",
       "    }\n",
       "\n",
       "    .dataframe tbody tr th {\n",
       "        vertical-align: top;\n",
       "    }\n",
       "\n",
       "    .dataframe thead th {\n",
       "        text-align: right;\n",
       "    }\n",
       "</style>\n",
       "<table border=\"1\" class=\"dataframe\">\n",
       "  <thead>\n",
       "    <tr style=\"text-align: right;\">\n",
       "      <th></th>\n",
       "      <th>last</th>\n",
       "      <th>email</th>\n",
       "      <th>age</th>\n",
       "      <th>occupation</th>\n",
       "      <th>nationality</th>\n",
       "    </tr>\n",
       "  </thead>\n",
       "  <tbody>\n",
       "    <tr>\n",
       "      <th>3</th>\n",
       "      <td>Tom</td>\n",
       "      <td>DavidTom@gmail.com</td>\n",
       "      <td>NaN</td>\n",
       "      <td>Actor</td>\n",
       "      <td>American</td>\n",
       "    </tr>\n",
       "    <tr>\n",
       "      <th>4</th>\n",
       "      <td>Tom</td>\n",
       "      <td>NicholleTom@gmail.com</td>\n",
       "      <td>42.0</td>\n",
       "      <td>Actress</td>\n",
       "      <td>American</td>\n",
       "    </tr>\n",
       "    <tr>\n",
       "      <th>5</th>\n",
       "      <td>Lee</td>\n",
       "      <td>BruceLee@yahoo.com</td>\n",
       "      <td>32.0</td>\n",
       "      <td>Martial artist</td>\n",
       "      <td>Chinese</td>\n",
       "    </tr>\n",
       "    <tr>\n",
       "      <th>6</th>\n",
       "      <td>Gyllenhaal</td>\n",
       "      <td>JacobGyllenhaal@mail.com</td>\n",
       "      <td>39.0</td>\n",
       "      <td>Actor</td>\n",
       "      <td>American</td>\n",
       "    </tr>\n",
       "    <tr>\n",
       "      <th>7</th>\n",
       "      <td>Gyllenhaal</td>\n",
       "      <td>MaggieGyllenhaal@mail.com</td>\n",
       "      <td>42.0</td>\n",
       "      <td>producer</td>\n",
       "      <td>American</td>\n",
       "    </tr>\n",
       "  </tbody>\n",
       "</table>\n",
       "</div>"
      ],
      "text/plain": [
       "         last                      email   age      occupation nationality\n",
       "3         Tom         DavidTom@gmail.com   NaN           Actor    American\n",
       "4         Tom      NicholleTom@gmail.com  42.0         Actress    American\n",
       "5         Lee         BruceLee@yahoo.com  32.0  Martial artist     Chinese\n",
       "6  Gyllenhaal   JacobGyllenhaal@mail.com  39.0           Actor    American\n",
       "7  Gyllenhaal  MaggieGyllenhaal@mail.com  42.0        producer    American"
      ]
     },
     "execution_count": 25,
     "metadata": {},
     "output_type": "execute_result"
    }
   ],
   "source": [
    "df.loc[3:7, 'last':'nationality']"
   ]
  },
  {
   "cell_type": "code",
   "execution_count": null,
   "metadata": {},
   "outputs": [],
   "source": []
  }
 ],
 "metadata": {
  "kernelspec": {
   "display_name": "Python 3",
   "language": "python",
   "name": "python3"
  },
  "language_info": {
   "codemirror_mode": {
    "name": "ipython",
    "version": 3
   },
   "file_extension": ".py",
   "mimetype": "text/x-python",
   "name": "python",
   "nbconvert_exporter": "python",
   "pygments_lexer": "ipython3",
   "version": "3.7.7"
  }
 },
 "nbformat": 4,
 "nbformat_minor": 2
}
